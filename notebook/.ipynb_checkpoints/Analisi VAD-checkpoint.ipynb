{
 "cells": [
  {
   "cell_type": "code",
   "execution_count": 3,
   "metadata": {},
   "outputs": [],
   "source": [
    "import numpy as np\n",
    "import pandas as pd\n",
    "import matplotlib.pyplot as plt"
   ]
  },
  {
   "cell_type": "code",
   "execution_count": 4,
   "metadata": {},
   "outputs": [
    {
     "name": "stdout",
     "output_type": "stream",
     "text": [
      "            Word  Arousal\n",
      "0      abduction    0.990\n",
      "1       exorcism    0.980\n",
      "2       homicide    0.973\n",
      "3      terrorism    0.971\n",
      "4      aggresive    0.971\n",
      "...          ...      ...\n",
      "20002       slow    0.073\n",
      "20003     cotton    0.071\n",
      "20004     mellow    0.069\n",
      "20005     siesta    0.046\n",
      "20006    napping    0.046\n",
      "\n",
      "[20007 rows x 2 columns]\n"
     ]
    }
   ],
   "source": [
    "vad_arousal = pd.read_csv('NRC-VAD-Lexicon-a-scores.csv')\n",
    "print(vad_arousal)"
   ]
  }
 ],
 "metadata": {
  "kernelspec": {
   "display_name": "Python 3",
   "language": "python",
   "name": "python3"
  },
  "language_info": {
   "codemirror_mode": {
    "name": "ipython",
    "version": 3
   },
   "file_extension": ".py",
   "mimetype": "text/x-python",
   "name": "python",
   "nbconvert_exporter": "python",
   "pygments_lexer": "ipython3",
   "version": "3.8.3"
  }
 },
 "nbformat": 4,
 "nbformat_minor": 4
}
