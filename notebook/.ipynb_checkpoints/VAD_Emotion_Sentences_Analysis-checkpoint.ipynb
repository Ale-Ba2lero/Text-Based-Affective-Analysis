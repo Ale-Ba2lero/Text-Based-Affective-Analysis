{
 "cells": [
  {
   "cell_type": "markdown",
   "metadata": {},
   "source": [
    "# VAD Analysis on sentences of the dataset"
   ]
  },
  {
   "cell_type": "markdown",
   "metadata": {},
   "source": [
    "### Import libraries and files"
   ]
  },
  {
   "cell_type": "code",
   "execution_count": 1,
   "metadata": {},
   "outputs": [],
   "source": [
    "import numpy as np\n",
    "import pandas as pd\n",
    "import matplotlib.pyplot as plt\n",
    "import csv\n",
    "import statsmodels.api as sm\n",
    "import read_matlab_files as rf"
   ]
  },
  {
   "cell_type": "markdown",
   "metadata": {},
   "source": [
    "### Take data from CSV files"
   ]
  },
  {
   "cell_type": "code",
   "execution_count": 2,
   "metadata": {},
   "outputs": [],
   "source": [
    "vad_arousal = pd.read_csv(r'NRC_VAD_Lexicon/NRC-VAD-Lexicon-a-scores.csv')\n",
    "vad_valence = pd.read_csv(r'NRC_VAD_Lexicon/NRC-VAD-Lexicon-v-scores.csv')\n",
    "vad_dominance = pd.read_csv(r'NRC_VAD_Lexicon/NRC-VAD-Lexicon-d-scores.csv')\n",
    "zuco_cs = pd.read_csv(r'ZuCo_words_dataset.csv')\n",
    "zuco_cs = zuco_cs.drop(index=430)\n"
   ]
  },
  {
   "cell_type": "markdown",
   "metadata": {},
   "source": [
    "### Take sentences from the dataset"
   ]
  },
  {
   "cell_type": "code",
   "execution_count": 3,
   "metadata": {},
   "outputs": [
    {
     "name": "stderr",
     "output_type": "stream",
     "text": [
      "c:\\users\\fra\\appdata\\local\\programs\\python\\python38\\lib\\site-packages\\numpy\\lib\\function_base.py:380: RuntimeWarning: Mean of empty slice.\n",
      "  avg = a.mean(axis)\n",
      "c:\\users\\fra\\appdata\\local\\programs\\python\\python38\\lib\\site-packages\\numpy\\core\\_methods.py:170: RuntimeWarning: invalid value encountered in double_scalars\n",
      "  ret = ret.dtype.type(ret / rcount)\n"
     ]
    },
    {
     "name": "stdout",
     "output_type": "stream",
     "text": [
      "Wall time: 4min 7s\n"
     ]
    }
   ],
   "source": [
    "%%time\n",
    "sentences_list = rf.getSentencesMeanValues()\n",
    "#sentences_list[0]"
   ]
  },
  {
   "cell_type": "code",
   "execution_count": 4,
   "metadata": {},
   "outputs": [],
   "source": [
    "def setA(vad_arousal, vad_valence, vad_dominance, sentence):\n",
    "    tempA = []\n",
    "    tempV = []\n",
    "    tempD = []\n",
    "    for word in sentence:\n",
    "        vad_arousal_temp = vad_arousal.loc[vad_arousal['Word']==word]\n",
    "        if not vad_arousal_temp.empty:\n",
    "            #print(word)\n",
    "            tempA.append(vad_arousal_temp.iloc[:,1].values[0])\n",
    "            tempV.append(vad_valence.loc[vad_valence['Word']==word].iloc[:,1].values[0])\n",
    "            tempD.append(vad_dominance.loc[vad_valence['Word']==word].iloc[:,1].values[0])\n",
    "            break\n",
    "    \n",
    "    if tempA != [] and tempV != [] and tempD != []:\n",
    "        a_value = np.average(tempA)\n",
    "        v_value = np.average(tempV)\n",
    "        d_value = np.average(tempD)\n",
    "        return a_value, v_value, d_value\n",
    "    else:\n",
    "        return -100, -100, -100\n",
    "    \n"
   ]
  },
  {
   "cell_type": "code",
   "execution_count": 5,
   "metadata": {},
   "outputs": [],
   "source": [
    "def createCsvWithVAD(ar_list, va_list, do_list):\n",
    "    df = pd.DataFrame(columns=['IdSent', 'Arousal', 'Valence', 'Dominance'])\n",
    "    \n",
    "    for x in range(len(ar_list)):\n",
    "        ar = ar_list[x]\n",
    "        va = va_list[x]\n",
    "        do = do_list[x]\n",
    "        df.loc[len(df.index)] = [x, ar, va, do]\n",
    "    return df"
   ]
  },
  {
   "cell_type": "code",
   "execution_count": 6,
   "metadata": {},
   "outputs": [],
   "source": [
    "def createCsvWithValueForWords(mps_list, trt_list, gd_list, ffd_list):\n",
    "    df = pd.DataFrame(columns=['MPS', 'TRT', 'GD', 'FFD'])\n",
    "    for x in range(len(mps_list)):\n",
    "            mps = mps_list[x]\n",
    "            trt = trt_list[x]\n",
    "            gd = gd_list[x]\n",
    "            ffd = ffd_list[x]\n",
    "            df.loc[len(df.index)] = [mps, trt, gd, ffd]\n",
    "    return df"
   ]
  },
  {
   "cell_type": "code",
   "execution_count": 26,
   "metadata": {},
   "outputs": [],
   "source": [
    "def findGazeValueForWords(sentences_list):\n",
    "    mps_list = []\n",
    "    trt_list = []\n",
    "    gd_list = []\n",
    "    ffd_list = []\n",
    "\n",
    "    for x in range(len(sentences_list)):\n",
    "        mps = []\n",
    "        trt = 0\n",
    "        gd = 0\n",
    "        ffd = 0\n",
    "        for k in range(len(sentences_list[x])):\n",
    "            mps.append(sentences_list[x][k]['MPS'])\n",
    "            trt += sentences_list[x][k]['TRT']\n",
    "            gd += sentences_list[x][k]['GD']\n",
    "            ffd += sentences_list[x][k]['FFD']\n",
    "        mps_value = np.average(mps)\n",
    "        mps_list.append(mps_value) \n",
    "        trt_list.append(trt)\n",
    "        gd_list.append(gd)\n",
    "        ffd_list.append(ffd)\n",
    "        \n",
    "    return createCsvWithValueForWords(mps_list, trt_list, gd_list, ffd_list)"
   ]
  },
  {
   "cell_type": "markdown",
   "metadata": {},
   "source": [
    "### Take VAD values for each sentence"
   ]
  },
  {
   "cell_type": "code",
   "execution_count": 8,
   "metadata": {},
   "outputs": [
    {
     "name": "stdout",
     "output_type": "stream",
     "text": [
      "Wall time: 3.14 s\n"
     ]
    }
   ],
   "source": [
    "%%time\n",
    "ar_list_x = []\n",
    "va_list_y = []\n",
    "do_list_z = []\n",
    "\n",
    "vad_arousal = vad_arousal.sort_values(by=['Word']).reset_index(drop=True)\n",
    "vad_valence = vad_valence.sort_values(by=['Word']).reset_index(drop=True)\n",
    "vad_dominance = vad_dominance.sort_values(by=['Word']).reset_index(drop=True)\n",
    "\n",
    "\n",
    "for x in range(len(sentences_list)):\n",
    "    sentence = []\n",
    "    for k in range(len(sentences_list[x])):\n",
    "        sentence.append(sentences_list[x][k]['Word'][0])\n",
    "        \n",
    "    sentence_arousal, sentence_valence, sentence_dominance = setA(vad_arousal, vad_valence, vad_dominance, sentence)\n",
    "    #sentence_valence = setV(vad_valence, sentence)\n",
    "    #sentence_dominance = setD(vad_dominance, sentence)\n",
    "    \n",
    "    if sentence_arousal!=-100 and sentence_valence!=-100 and sentence_dominance!=-100:\n",
    "        ar_list_x.append(sentence_arousal)\n",
    "        va_list_y.append(sentence_valence)\n",
    "        do_list_z.append(sentence_dominance)\n"
   ]
  },
  {
   "cell_type": "code",
   "execution_count": 27,
   "metadata": {
    "scrolled": true
   },
   "outputs": [
    {
     "name": "stdout",
     "output_type": "stream",
     "text": [
      "Wall time: 421 ms\n"
     ]
    }
   ],
   "source": [
    "%%time\n",
    "#sentence_VAD = createCsvWithVAD(ar_list_x, va_list_y, do_list_z)\n",
    "#sentence_VAD.to_csv('Sentence_VAD_Emotion_dataset.csv', index=False)\n",
    "#sentence_ValuesOfWOrds = findGazeValueForWords(sentences_list)\n",
    "#sentence_ValuesOfWOrds.to_csv('Sentence_Gaze_Values_Of_Words_dataset.csv', index=False)"
   ]
  },
  {
   "cell_type": "markdown",
   "metadata": {},
   "source": [
    "## Analysis of VAD for each sentence"
   ]
  },
  {
   "cell_type": "code",
   "execution_count": 28,
   "metadata": {
    "scrolled": true
   },
   "outputs": [
    {
     "data": {
      "image/png": "[encoded data removed]",
      "text/plain": [
       "<Figure size 432x288 with 1 Axes>"
      ]
     },
     "metadata": {
      "needs_background": "light"
     },
     "output_type": "display_data"
    }
   ],
   "source": [
    "ax = plt.axes(projection='3d')\n",
    "ax.scatter(ar_list_x, va_list_y, do_list_z, c=do_list_z, cmap='viridis', linewidth=0.5);\n",
    "ax.set_xlabel('Arousal')\n",
    "ax.set_ylabel('Valence')\n",
    "ax.set_zlabel('Dominance');"
   ]
  },
  {
   "cell_type": "code",
   "execution_count": 29,
   "metadata": {},
   "outputs": [
    {
     "name": "stdout",
     "output_type": "stream",
     "text": [
      "             MPS          TRT           GD          FFD\n",
      "0    3393.726335  3272.114127  2271.848639  2042.908123\n",
      "1    3541.701698  2037.391503  1254.270915  1211.811111\n",
      "2    3393.698266  4614.541475  3705.400705  3282.506023\n",
      "3            NaN          NaN          NaN          NaN\n",
      "4    3361.964108  3248.623581  2384.391665  2072.423616\n",
      "..           ...          ...          ...          ...\n",
      "385          NaN          NaN          NaN          NaN\n",
      "386  3244.692796  2786.358364  2406.158397  2261.481086\n",
      "387  3313.699684  1682.916126  1582.294697  1461.151840\n",
      "388  3232.751306  1457.638845  1134.106443  1094.863225\n",
      "389  3050.352390  3739.406460  3167.588070  2800.442616\n",
      "\n",
      "[390 rows x 4 columns]\n"
     ]
    }
   ],
   "source": [
    "dat = pd.read_csv(r'./Sentence_Gaze_Values_Of_Words_dataset.csv')\n",
    "print(dat)"
   ]
  }
 ],
 "metadata": {
  "kernelspec": {
   "display_name": "Python 3",
   "language": "python",
   "name": "python3"
  },
  "language_info": {
   "codemirror_mode": {
    "name": "ipython",
    "version": 3
   },
   "file_extension": ".py",
   "mimetype": "text/x-python",
   "name": "python",
   "nbconvert_exporter": "python",
   "pygments_lexer": "ipython3",
   "version": "3.8.3"
  }
 },
 "nbformat": 4,
 "nbformat_minor": 4
}
