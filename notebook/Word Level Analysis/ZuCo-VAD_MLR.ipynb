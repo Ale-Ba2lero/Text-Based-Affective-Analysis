{
 "cells": [
  {
   "cell_type": "markdown",
   "metadata": {},
   "source": [
    "# ZuCo x VAD Multiple Linear Regression Analysis"
   ]
  },
  {
   "cell_type": "markdown",
   "metadata": {},
   "source": [
    "With these analysis we want to search for a correlation between the gaze feature for alla the words in the ZuCo dataset and their VAD values"
   ]
  },
  {
   "cell_type": "markdown",
   "metadata": {},
   "source": [
    "## Import libraries and files"
   ]
  },
  {
   "cell_type": "code",
   "execution_count": 7,
   "metadata": {},
   "outputs": [],
   "source": [
    "import pandas as pd\n",
    "import statsmodels.api as sm\n",
    "\n",
    "\n",
    "from sklearn.preprocessing import MinMaxScaler\n",
    "# some_file.py\n",
    "import sys\n",
    "# insert at 1, 0 is the script path (or '' in REPL)\n",
    "sys.path.insert(1, '../')\n",
    "import BackwardElimination as be"
   ]
  },
  {
   "cell_type": "markdown",
   "metadata": {},
   "source": [
    "## Take data from CSV files"
   ]
  },
  {
   "cell_type": "code",
   "execution_count": 2,
   "metadata": {},
   "outputs": [],
   "source": [
    "vad_arousal = pd.read_csv(r'../Lexicons/NRC_VAD_Lexicon/NRC-VAD-Lexicon-a-scores.csv')\n",
    "vad_valence = pd.read_csv(r'../Lexicons/NRC_VAD_Lexicon/NRC-VAD-Lexicon-v-scores.csv')\n",
    "vad_dominance = pd.read_csv(r'../Lexicons/NRC_VAD_Lexicon/NRC-VAD-Lexicon-d-scores.csv')\n",
    "zuco_cs = pd.read_csv(r'../Lexicons/ZuCo_words_dataset.csv')"
   ]
  },
  {
   "cell_type": "code",
   "execution_count": 3,
   "metadata": {},
   "outputs": [],
   "source": [
    "zuco_ar_cs = pd.merge(zuco_cs, vad_arousal, how = 'inner', on = ['Word'])\n",
    "zuco_ar_cs = zuco_ar_cs.sort_values(by=['Arousal']).reset_index(drop=True)\n",
    "zuco_ar_cs = zuco_ar_cs.drop(['Word'], axis=1)\n",
    "\n",
    "zuco_va_cs = pd.merge(zuco_cs, vad_valence, how = 'inner', on = ['Word'])\n",
    "zuco_va_cs = zuco_va_cs.sort_values(by=['Valence']).reset_index(drop=True)\n",
    "zuco_va_cs = zuco_va_cs.drop(['Word'], axis=1)\n",
    "\n",
    "zuco_do_cs = pd.merge(zuco_cs, vad_dominance, how = 'inner', on = ['Word'])\n",
    "zuco_do_cs = zuco_do_cs.sort_values(by=['Dominance']).reset_index(drop=True)\n",
    "zuco_do_cs = zuco_do_cs.drop(['Word'], axis=1)"
   ]
  },
  {
   "cell_type": "markdown",
   "metadata": {},
   "source": [
    "## Multiple Linear Regression between VAD and Gaze Features on words in ZuCo"
   ]
  },
  {
   "cell_type": "markdown",
   "metadata": {},
   "source": [
    "### Analysis: Arousal as dependent and MPS, TRT, GD, FFD as indipendent¶"
   ]
  },
  {
   "cell_type": "code",
   "execution_count": 10,
   "metadata": {},
   "outputs": [],
   "source": [
    "scaler = MinMaxScaler()"
   ]
  },
  {
   "cell_type": "code",
   "execution_count": 14,
   "metadata": {},
   "outputs": [
    {
     "name": "stdout",
     "output_type": "stream",
     "text": [
      "const    9.135880e-61\n",
      "MPS      3.239329e-01\n",
      "TRT      7.606495e-01\n",
      "GD       7.415110e-02\n",
      "FFD      5.732004e-01\n",
      "dtype: float64\n",
      " \n",
      "const    7.878619e-61\n",
      "MPS      2.883989e-01\n",
      "GD       5.145309e-02\n",
      "FFD      5.865315e-01\n",
      "dtype: float64\n",
      " \n",
      "const    6.363491e-63\n",
      "MPS      2.814249e-01\n",
      "GD       1.923564e-02\n",
      "dtype: float64\n",
      " \n",
      "const    1.854772e-194\n",
      "GD        2.223395e-02\n",
      "dtype: float64\n",
      " \n"
     ]
    },
    {
     "data": {
      "text/html": [
       "<table class=\"simpletable\">\n",
       "<caption>OLS Regression Results</caption>\n",
       "<tr>\n",
       "  <th>Dep. Variable:</th>         <td>Arousal</td>     <th>  R-squared:         </th> <td>   0.005</td>\n",
       "</tr>\n",
       "<tr>\n",
       "  <th>Model:</th>                   <td>OLS</td>       <th>  Adj. R-squared:    </th> <td>   0.004</td>\n",
       "</tr>\n",
       "<tr>\n",
       "  <th>Method:</th>             <td>Least Squares</td>  <th>  F-statistic:       </th> <td>   5.244</td>\n",
       "</tr>\n",
       "<tr>\n",
       "  <th>Date:</th>             <td>Sat, 21 Nov 2020</td> <th>  Prob (F-statistic):</th>  <td>0.0222</td> \n",
       "</tr>\n",
       "<tr>\n",
       "  <th>Time:</th>                 <td>11:32:37</td>     <th>  Log-Likelihood:    </th> <td>  389.22</td>\n",
       "</tr>\n",
       "<tr>\n",
       "  <th>No. Observations:</th>      <td>  1002</td>      <th>  AIC:               </th> <td>  -774.4</td>\n",
       "</tr>\n",
       "<tr>\n",
       "  <th>Df Residuals:</th>          <td>  1000</td>      <th>  BIC:               </th> <td>  -764.6</td>\n",
       "</tr>\n",
       "<tr>\n",
       "  <th>Df Model:</th>              <td>     1</td>      <th>                     </th>     <td> </td>   \n",
       "</tr>\n",
       "<tr>\n",
       "  <th>Covariance Type:</th>      <td>nonrobust</td>    <th>                     </th>     <td> </td>   \n",
       "</tr>\n",
       "</table>\n",
       "<table class=\"simpletable\">\n",
       "<tr>\n",
       "    <td></td>       <th>coef</th>     <th>std err</th>      <th>t</th>      <th>P>|t|</th>  <th>[0.025</th>    <th>0.975]</th>  \n",
       "</tr>\n",
       "<tr>\n",
       "  <th>const</th> <td>    0.4416</td> <td>    0.012</td> <td>   37.733</td> <td> 0.000</td> <td>    0.419</td> <td>    0.465</td>\n",
       "</tr>\n",
       "<tr>\n",
       "  <th>GD</th>    <td>    0.1001</td> <td>    0.044</td> <td>    2.290</td> <td> 0.022</td> <td>    0.014</td> <td>    0.186</td>\n",
       "</tr>\n",
       "</table>\n",
       "<table class=\"simpletable\">\n",
       "<tr>\n",
       "  <th>Omnibus:</th>       <td>34.290</td> <th>  Durbin-Watson:     </th> <td>   0.010</td>\n",
       "</tr>\n",
       "<tr>\n",
       "  <th>Prob(Omnibus):</th> <td> 0.000</td> <th>  Jarque-Bera (JB):  </th> <td>  37.133</td>\n",
       "</tr>\n",
       "<tr>\n",
       "  <th>Skew:</th>          <td> 0.465</td> <th>  Prob(JB):          </th> <td>8.64e-09</td>\n",
       "</tr>\n",
       "<tr>\n",
       "  <th>Kurtosis:</th>      <td> 2.846</td> <th>  Cond. No.          </th> <td>    8.92</td>\n",
       "</tr>\n",
       "</table><br/><br/>Notes:<br/>[1] Standard Errors assume that the covariance matrix of the errors is correctly specified."
      ],
      "text/plain": [
       "<class 'statsmodels.iolib.summary.Summary'>\n",
       "\"\"\"\n",
       "                            OLS Regression Results                            \n",
       "==============================================================================\n",
       "Dep. Variable:                Arousal   R-squared:                       0.005\n",
       "Model:                            OLS   Adj. R-squared:                  0.004\n",
       "Method:                 Least Squares   F-statistic:                     5.244\n",
       "Date:                Sat, 21 Nov 2020   Prob (F-statistic):             0.0222\n",
       "Time:                        11:32:37   Log-Likelihood:                 389.22\n",
       "No. Observations:                1002   AIC:                            -774.4\n",
       "Df Residuals:                    1000   BIC:                            -764.6\n",
       "Df Model:                           1                                         \n",
       "Covariance Type:            nonrobust                                         \n",
       "==============================================================================\n",
       "                 coef    std err          t      P>|t|      [0.025      0.975]\n",
       "------------------------------------------------------------------------------\n",
       "const          0.4416      0.012     37.733      0.000       0.419       0.465\n",
       "GD             0.1001      0.044      2.290      0.022       0.014       0.186\n",
       "==============================================================================\n",
       "Omnibus:                       34.290   Durbin-Watson:                   0.010\n",
       "Prob(Omnibus):                  0.000   Jarque-Bera (JB):               37.133\n",
       "Skew:                           0.465   Prob(JB):                     8.64e-09\n",
       "Kurtosis:                       2.846   Cond. No.                         8.92\n",
       "==============================================================================\n",
       "\n",
       "Notes:\n",
       "[1] Standard Errors assume that the covariance matrix of the errors is correctly specified.\n",
       "\"\"\""
      ]
     },
     "execution_count": 14,
     "metadata": {},
     "output_type": "execute_result"
    }
   ],
   "source": [
    "#x = zuco_ar_cs.iloc[:, :-1].values\n",
    "#y = zuco_ar_cs.iloc[:, -1].values\n",
    "\n",
    "\n",
    "zuco_ar_cs = pd.DataFrame(zuco_ar_cs, columns=['MPS','TRT','GD','FFD','Arousal'])\n",
    "\n",
    "x = zuco_ar_cs[['MPS','TRT','GD','FFD']]\n",
    "x = pd.DataFrame(scaler.fit_transform(x), columns=['MPS','TRT','GD','FFD'])\n",
    "y = zuco_ar_cs['Arousal']\n",
    "x = sm.add_constant(x)\n",
    "\n",
    "model = be.backWardEliminationMLR(x,y)#sm.OLS(y, x).fit()\n",
    "model.summary()"
   ]
  },
  {
   "cell_type": "markdown",
   "metadata": {},
   "source": [
    "We can see a strong correlation between the dependent variable Arousal and the independent variable gaze duration(p values = 0.022)\n",
    "\n",
    "SL = 0.05"
   ]
  },
  {
   "cell_type": "markdown",
   "metadata": {},
   "source": [
    "### Analysis: Valence as dependent and MPS, TRT, GD, FFD as indipendent"
   ]
  },
  {
   "cell_type": "code",
   "execution_count": 11,
   "metadata": {},
   "outputs": [
    {
     "name": "stdout",
     "output_type": "stream",
     "text": [
      "const    3.000476e-87\n",
      "MPS      8.192093e-02\n",
      "TRT      9.358091e-01\n",
      "GD       7.299814e-01\n",
      "FFD      2.398259e-01\n",
      "dtype: float64\n",
      " \n",
      "const    2.470918e-87\n",
      "MPS      7.909354e-02\n",
      "GD       6.381597e-01\n",
      "FFD      2.362608e-01\n",
      "dtype: float64\n",
      " \n",
      "const    8.460427e-88\n",
      "MPS      8.014381e-02\n",
      "FFD      2.063254e-01\n",
      "dtype: float64\n",
      " \n",
      "const    5.419405e-98\n",
      "MPS      6.785672e-02\n",
      "dtype: float64\n",
      " \n",
      "const    0.0\n",
      "dtype: float64\n",
      " \n"
     ]
    },
    {
     "data": {
      "text/html": [
       "<table class=\"simpletable\">\n",
       "<caption>OLS Regression Results</caption>\n",
       "<tr>\n",
       "  <th>Dep. Variable:</th>         <td>Valence</td>     <th>  R-squared:         </th> <td>  -0.000</td>\n",
       "</tr>\n",
       "<tr>\n",
       "  <th>Model:</th>                   <td>OLS</td>       <th>  Adj. R-squared:    </th> <td>  -0.000</td>\n",
       "</tr>\n",
       "<tr>\n",
       "  <th>Method:</th>             <td>Least Squares</td>  <th>  F-statistic:       </th> <td>     nan</td>\n",
       "</tr>\n",
       "<tr>\n",
       "  <th>Date:</th>             <td>Sat, 21 Nov 2020</td> <th>  Prob (F-statistic):</th>  <td>   nan</td> \n",
       "</tr>\n",
       "<tr>\n",
       "  <th>Time:</th>                 <td>11:00:09</td>     <th>  Log-Likelihood:    </th> <td>  229.88</td>\n",
       "</tr>\n",
       "<tr>\n",
       "  <th>No. Observations:</th>      <td>  1002</td>      <th>  AIC:               </th> <td>  -457.8</td>\n",
       "</tr>\n",
       "<tr>\n",
       "  <th>Df Residuals:</th>          <td>  1001</td>      <th>  BIC:               </th> <td>  -452.9</td>\n",
       "</tr>\n",
       "<tr>\n",
       "  <th>Df Model:</th>              <td>     0</td>      <th>                     </th>     <td> </td>   \n",
       "</tr>\n",
       "<tr>\n",
       "  <th>Covariance Type:</th>      <td>nonrobust</td>    <th>                     </th>     <td> </td>   \n",
       "</tr>\n",
       "</table>\n",
       "<table class=\"simpletable\">\n",
       "<tr>\n",
       "    <td></td>       <th>coef</th>     <th>std err</th>      <th>t</th>      <th>P>|t|</th>  <th>[0.025</th>    <th>0.975]</th>  \n",
       "</tr>\n",
       "<tr>\n",
       "  <th>const</th> <td>    0.6176</td> <td>    0.006</td> <td>  101.573</td> <td> 0.000</td> <td>    0.606</td> <td>    0.630</td>\n",
       "</tr>\n",
       "</table>\n",
       "<table class=\"simpletable\">\n",
       "<tr>\n",
       "  <th>Omnibus:</th>       <td>73.386</td> <th>  Durbin-Watson:     </th> <td>   0.000</td>\n",
       "</tr>\n",
       "<tr>\n",
       "  <th>Prob(Omnibus):</th> <td> 0.000</td> <th>  Jarque-Bera (JB):  </th> <td>  88.709</td>\n",
       "</tr>\n",
       "<tr>\n",
       "  <th>Skew:</th>          <td>-0.681</td> <th>  Prob(JB):          </th> <td>5.46e-20</td>\n",
       "</tr>\n",
       "<tr>\n",
       "  <th>Kurtosis:</th>      <td> 3.517</td> <th>  Cond. No.          </th> <td>    1.00</td>\n",
       "</tr>\n",
       "</table><br/><br/>Notes:<br/>[1] Standard Errors assume that the covariance matrix of the errors is correctly specified."
      ],
      "text/plain": [
       "<class 'statsmodels.iolib.summary.Summary'>\n",
       "\"\"\"\n",
       "                            OLS Regression Results                            \n",
       "==============================================================================\n",
       "Dep. Variable:                Valence   R-squared:                      -0.000\n",
       "Model:                            OLS   Adj. R-squared:                 -0.000\n",
       "Method:                 Least Squares   F-statistic:                       nan\n",
       "Date:                Sat, 21 Nov 2020   Prob (F-statistic):                nan\n",
       "Time:                        11:00:09   Log-Likelihood:                 229.88\n",
       "No. Observations:                1002   AIC:                            -457.8\n",
       "Df Residuals:                    1001   BIC:                            -452.9\n",
       "Df Model:                           0                                         \n",
       "Covariance Type:            nonrobust                                         \n",
       "==============================================================================\n",
       "                 coef    std err          t      P>|t|      [0.025      0.975]\n",
       "------------------------------------------------------------------------------\n",
       "const          0.6176      0.006    101.573      0.000       0.606       0.630\n",
       "==============================================================================\n",
       "Omnibus:                       73.386   Durbin-Watson:                   0.000\n",
       "Prob(Omnibus):                  0.000   Jarque-Bera (JB):               88.709\n",
       "Skew:                          -0.681   Prob(JB):                     5.46e-20\n",
       "Kurtosis:                       3.517   Cond. No.                         1.00\n",
       "==============================================================================\n",
       "\n",
       "Notes:\n",
       "[1] Standard Errors assume that the covariance matrix of the errors is correctly specified.\n",
       "\"\"\""
      ]
     },
     "execution_count": 11,
     "metadata": {},
     "output_type": "execute_result"
    }
   ],
   "source": [
    "zuco_va_cs = pd.DataFrame(zuco_va_cs, columns=['MPS','TRT','GD','FFD','Valence'])\n",
    "x = zuco_va_cs[['MPS','TRT','GD','FFD']]\n",
    "x = pd.DataFrame(scaler.fit_transform(x), columns=['MPS','TRT','GD','FFD'])\n",
    "y = zuco_va_cs['Valence']\n",
    "\n",
    "x = sm.add_constant(x)\n",
    "model = be.backWardEliminationMLR(x,y)\n",
    "model.summary()"
   ]
  },
  {
   "cell_type": "markdown",
   "metadata": {},
   "source": [
    "We can see an apparently no correlation between the dependent variable Valence and the following independent variables: MPS, TRT, GD and FFD\n",
    "\n",
    "SL = 0.05"
   ]
  },
  {
   "cell_type": "markdown",
   "metadata": {},
   "source": [
    "### Analysis: Dominance as dependent and MPS, TRT, GD, FFD as indipendent"
   ]
  },
  {
   "cell_type": "code",
   "execution_count": 12,
   "metadata": {},
   "outputs": [
    {
     "name": "stdout",
     "output_type": "stream",
     "text": [
      "const    7.320637e-81\n",
      "MPS      4.032543e-02\n",
      "TRT      4.923203e-01\n",
      "GD       8.312547e-03\n",
      "FFD      4.722585e-01\n",
      "dtype: float64\n",
      " \n",
      "const    6.220076e-81\n",
      "MPS      2.668924e-02\n",
      "GD       6.534861e-03\n",
      "FFD      5.008083e-01\n",
      "dtype: float64\n",
      " \n",
      "const    1.454908e-83\n",
      "MPS      2.537672e-02\n",
      "GD       7.622874e-04\n",
      "dtype: float64\n",
      " \n"
     ]
    },
    {
     "data": {
      "text/html": [
       "<table class=\"simpletable\">\n",
       "<caption>OLS Regression Results</caption>\n",
       "<tr>\n",
       "  <th>Dep. Variable:</th>        <td>Dominance</td>    <th>  R-squared:         </th> <td>   0.015</td>\n",
       "</tr>\n",
       "<tr>\n",
       "  <th>Model:</th>                   <td>OLS</td>       <th>  Adj. R-squared:    </th> <td>   0.013</td>\n",
       "</tr>\n",
       "<tr>\n",
       "  <th>Method:</th>             <td>Least Squares</td>  <th>  F-statistic:       </th> <td>   7.823</td>\n",
       "</tr>\n",
       "<tr>\n",
       "  <th>Date:</th>             <td>Sat, 21 Nov 2020</td> <th>  Prob (F-statistic):</th> <td>0.000425</td>\n",
       "</tr>\n",
       "<tr>\n",
       "  <th>Time:</th>                 <td>11:00:22</td>     <th>  Log-Likelihood:    </th> <td>  290.58</td>\n",
       "</tr>\n",
       "<tr>\n",
       "  <th>No. Observations:</th>      <td>  1002</td>      <th>  AIC:               </th> <td>  -575.2</td>\n",
       "</tr>\n",
       "<tr>\n",
       "  <th>Df Residuals:</th>          <td>   999</td>      <th>  BIC:               </th> <td>  -560.4</td>\n",
       "</tr>\n",
       "<tr>\n",
       "  <th>Df Model:</th>              <td>     2</td>      <th>                     </th>     <td> </td>   \n",
       "</tr>\n",
       "<tr>\n",
       "  <th>Covariance Type:</th>      <td>nonrobust</td>    <th>                     </th>     <td> </td>   \n",
       "</tr>\n",
       "</table>\n",
       "<table class=\"simpletable\">\n",
       "<tr>\n",
       "    <td></td>       <th>coef</th>     <th>std err</th>      <th>t</th>      <th>P>|t|</th>  <th>[0.025</th>    <th>0.975]</th>  \n",
       "</tr>\n",
       "<tr>\n",
       "  <th>const</th> <td>    0.6109</td> <td>    0.029</td> <td>   21.342</td> <td> 0.000</td> <td>    0.555</td> <td>    0.667</td>\n",
       "</tr>\n",
       "<tr>\n",
       "  <th>MPS</th>   <td>   -0.1113</td> <td>    0.050</td> <td>   -2.239</td> <td> 0.025</td> <td>   -0.209</td> <td>   -0.014</td>\n",
       "</tr>\n",
       "<tr>\n",
       "  <th>GD</th>    <td>    0.1632</td> <td>    0.048</td> <td>    3.377</td> <td> 0.001</td> <td>    0.068</td> <td>    0.258</td>\n",
       "</tr>\n",
       "</table>\n",
       "<table class=\"simpletable\">\n",
       "<tr>\n",
       "  <th>Omnibus:</th>       <td>30.242</td> <th>  Durbin-Watson:     </th> <td>   0.033</td>\n",
       "</tr>\n",
       "<tr>\n",
       "  <th>Prob(Omnibus):</th> <td> 0.000</td> <th>  Jarque-Bera (JB):  </th> <td>  17.428</td>\n",
       "</tr>\n",
       "<tr>\n",
       "  <th>Skew:</th>          <td>-0.155</td> <th>  Prob(JB):          </th> <td>0.000164</td>\n",
       "</tr>\n",
       "<tr>\n",
       "  <th>Kurtosis:</th>      <td> 2.433</td> <th>  Cond. No.          </th> <td>    11.4</td>\n",
       "</tr>\n",
       "</table><br/><br/>Notes:<br/>[1] Standard Errors assume that the covariance matrix of the errors is correctly specified."
      ],
      "text/plain": [
       "<class 'statsmodels.iolib.summary.Summary'>\n",
       "\"\"\"\n",
       "                            OLS Regression Results                            \n",
       "==============================================================================\n",
       "Dep. Variable:              Dominance   R-squared:                       0.015\n",
       "Model:                            OLS   Adj. R-squared:                  0.013\n",
       "Method:                 Least Squares   F-statistic:                     7.823\n",
       "Date:                Sat, 21 Nov 2020   Prob (F-statistic):           0.000425\n",
       "Time:                        11:00:22   Log-Likelihood:                 290.58\n",
       "No. Observations:                1002   AIC:                            -575.2\n",
       "Df Residuals:                     999   BIC:                            -560.4\n",
       "Df Model:                           2                                         \n",
       "Covariance Type:            nonrobust                                         \n",
       "==============================================================================\n",
       "                 coef    std err          t      P>|t|      [0.025      0.975]\n",
       "------------------------------------------------------------------------------\n",
       "const          0.6109      0.029     21.342      0.000       0.555       0.667\n",
       "MPS           -0.1113      0.050     -2.239      0.025      -0.209      -0.014\n",
       "GD             0.1632      0.048      3.377      0.001       0.068       0.258\n",
       "==============================================================================\n",
       "Omnibus:                       30.242   Durbin-Watson:                   0.033\n",
       "Prob(Omnibus):                  0.000   Jarque-Bera (JB):               17.428\n",
       "Skew:                          -0.155   Prob(JB):                     0.000164\n",
       "Kurtosis:                       2.433   Cond. No.                         11.4\n",
       "==============================================================================\n",
       "\n",
       "Notes:\n",
       "[1] Standard Errors assume that the covariance matrix of the errors is correctly specified.\n",
       "\"\"\""
      ]
     },
     "execution_count": 12,
     "metadata": {},
     "output_type": "execute_result"
    }
   ],
   "source": [
    "zuco_do_cs = pd.DataFrame(zuco_do_cs, columns=['MPS','TRT','GD','FFD','Dominance'])\n",
    "x = zuco_do_cs[['MPS','TRT','GD','FFD']]\n",
    "x = pd.DataFrame(scaler.fit_transform(x), columns=['MPS','TRT','GD','FFD'])\n",
    "y = zuco_do_cs['Dominance']\n",
    "\n",
    "x = sm.add_constant(x)\n",
    "model = be.backWardEliminationMLR(x,y)\n",
    "model.summary()"
   ]
  },
  {
   "cell_type": "markdown",
   "metadata": {},
   "source": [
    "We can see a strong correlation between the dependent variable Arousal and the following independent variables: mean pupil size(p values = 0.025) and  gaze duration(p values = 0.001)\n",
    "\n",
    "SL = 0.05"
   ]
  },
  {
   "cell_type": "code",
   "execution_count": null,
   "metadata": {},
   "outputs": [],
   "source": []
  }
 ],
 "metadata": {
  "kernelspec": {
   "display_name": "Python 3",
   "language": "python",
   "name": "python3"
  },
  "language_info": {
   "codemirror_mode": {
    "name": "ipython",
    "version": 3
   },
   "file_extension": ".py",
   "mimetype": "text/x-python",
   "name": "python",
   "nbconvert_exporter": "python",
   "pygments_lexer": "ipython3",
   "version": "3.8.3"
  }
 },
 "nbformat": 4,
 "nbformat_minor": 4
}
