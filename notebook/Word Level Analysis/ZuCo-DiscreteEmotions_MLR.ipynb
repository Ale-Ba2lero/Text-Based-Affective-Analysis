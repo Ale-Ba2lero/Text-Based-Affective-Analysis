{
 "cells": [
  {
   "cell_type": "markdown",
   "metadata": {},
   "source": [
    "## ZuCo - Discrete emotion multiple linear regression analysis\n",
    "\n",
    "With this analysis, we want to search for any sign of the linear correlation between the feature values obtained from the ZuCo dataset applied to the single words that compose the sentences of the mentioned dataset, and the emotion score value obtained from the NRC emotion intensity lexicon."
   ]
  },
  {
   "cell_type": "code",
   "execution_count": null,
   "metadata": {},
   "outputs": [],
   "source": [
    "import pandas as pd\n",
    "import statsmodels.api as sm\n",
    "from sklearn.preprocessing import MinMaxScaler\n",
    "\n",
    "# some_file.py\n",
    "import sys\n",
    "# insert at 1, 0 is the script path (or '' in REPL)\n",
    "sys.path.insert(1, '../')\n",
    "import BackwardElimination as be"
   ]
  },
  {
   "cell_type": "markdown",
   "metadata": {},
   "source": [
    "## Import the ZuCo dataset"
   ]
  },
  {
   "cell_type": "code",
   "execution_count": null,
   "metadata": {},
   "outputs": [],
   "source": [
    "zuco_ds = pd.read_csv('../Lexicons/ZuCo_words_dataset.csv')"
   ]
  },
  {
   "cell_type": "markdown",
   "metadata": {},
   "source": [
    "## Normalizing values"
   ]
  },
  {
   "cell_type": "code",
   "execution_count": null,
   "metadata": {},
   "outputs": [],
   "source": [
    "scaler = MinMaxScaler()\n",
    "zuco_ds.iloc[:,1:] = pd.DataFrame(scaler.fit_transform(zuco_ds.iloc[:,1:].values), columns=zuco_ds.columns[1:])"
   ]
  },
  {
   "cell_type": "markdown",
   "metadata": {},
   "source": [
    "## Get discrete emotion intensity values dataset from NRC lexicon"
   ]
  },
  {
   "cell_type": "code",
   "execution_count": null,
   "metadata": {},
   "outputs": [],
   "source": [
    "anger_lex = pd.read_csv('../Lexicons/NRC_Emotion_Intensity_Lexicon/NRC-Emotion-Intensity-anger-scores.csv')\n",
    "anticipation_lex = pd.read_csv('../Lexicons/NRC_Emotion_Intensity_Lexicon/NRC-Emotion-Intensity-anticipation-scores.csv')\n",
    "disgust_lex = pd.read_csv('../Lexicons/NRC_Emotion_Intensity_Lexicon/NRC-Emotion-Intensity-disgust-scores.csv')\n",
    "fear_lex = pd.read_csv('../Lexicons/NRC_Emotion_Intensity_Lexicon/NRC-Emotion-Intensity-fear-scores.csv')\n",
    "joy_lex = pd.read_csv('../Lexicons/NRC_Emotion_Intensity_Lexicon/NRC-Emotion-Intensity-joy-scores.csv')\n",
    "sadness_lex = pd.read_csv('../Lexicons/NRC_Emotion_Intensity_Lexicon/NRC-Emotion-Intensity-sadness-scores.csv')\n",
    "surprise_lex = pd.read_csv('../Lexicons/NRC_Emotion_Intensity_Lexicon/NRC-Emotion-Intensity-surprise-scores.csv')\n",
    "trust_lex = pd.read_csv('../Lexicons/NRC_Emotion_Intensity_Lexicon/NRC-Emotion-Intensity-trust-scores.csv')"
   ]
  },
  {
   "cell_type": "markdown",
   "metadata": {},
   "source": [
    "## Intersect each discrete emotion lexicon with the zuco used words dataset"
   ]
  },
  {
   "cell_type": "code",
   "execution_count": null,
   "metadata": {},
   "outputs": [],
   "source": [
    "anger_ds = pd.merge(zuco_ds, anger_lex, how ='inner', on =['Word'])\n",
    "anger_ds = anger_ds.drop(['Word'], axis=1)\n",
    "\n",
    "anticipation_ds = pd.merge(zuco_ds, anticipation_lex, how ='inner', on =['Word'])\n",
    "anticipation_ds = anticipation_ds.drop(['Word'], axis=1)\n",
    "\n",
    "disgust_ds = pd.merge(zuco_ds, disgust_lex, how ='inner', on =['Word'])\n",
    "disgust_ds = disgust_ds.drop(['Word'], axis=1)\n",
    "\n",
    "fear_ds = pd.merge(zuco_ds, fear_lex, how ='inner', on =['Word'])\n",
    "fear_ds = fear_ds.drop(['Word'], axis=1)\n",
    "\n",
    "joy_ds = pd.merge(zuco_ds, joy_lex, how ='inner', on =['Word'])\n",
    "joy_ds = joy_ds.drop(['Word'], axis=1)\n",
    "\n",
    "sadness_ds = pd.merge(zuco_ds, sadness_lex, how ='inner', on =['Word'])\n",
    "sadness_ds = sadness_ds.drop(['Word'], axis=1)\n",
    "\n",
    "surprise_ds = pd.merge(zuco_ds, surprise_lex, how ='inner', on =['Word'])\n",
    "surprise_ds = surprise_ds.drop(['Word'], axis=1)\n",
    "\n",
    "trust_ds = pd.merge(zuco_ds, trust_lex, how ='inner', on =['Word'])\n",
    "trust_ds = trust_ds.drop(['Word'], axis=1)"
   ]
  },
  {
   "cell_type": "markdown",
   "metadata": {},
   "source": [
    "## Build simple linear regression models"
   ]
  },
  {
   "cell_type": "code",
   "execution_count": null,
   "metadata": {},
   "outputs": [],
   "source": [
    "#anger_ds = pd.DataFrame(anger_ds, columns=['MPS','TRT','GD','FFD','SCORE'])\n",
    "#print (anger_ds)\n",
    "X = anger_ds[['MPS','TRT','GD','FFD']]\n",
    "y = anger_ds['Score']\n",
    "X = sm.add_constant(X)\n",
    "#model = be.backwardEliminationMLR(X,y)\n",
    "model = sm.OLS(y, X).fit()\n",
    "model.summary()"
   ]
  },
  {
   "cell_type": "markdown",
   "metadata": {},
   "source": [
    "No correlation has been noticed between ZuCo values and anger score values (SL = 0.05)"
   ]
  },
  {
   "cell_type": "code",
   "execution_count": null,
   "metadata": {},
   "outputs": [],
   "source": [
    "X = anticipation_ds[['MPS','TRT','GD','FFD']]\n",
    "y = anticipation_ds['Score']\n",
    "X = sm.add_constant(X)\n",
    "\n",
    "model = be.backwardEliminationMLR(X,y)\n",
    "model.summary()"
   ]
  },
  {
   "cell_type": "markdown",
   "metadata": {},
   "source": [
    "No correlation has been noticed between ZuCo values and anticipaiton score values (SL = 0.05)"
   ]
  },
  {
   "cell_type": "code",
   "execution_count": null,
   "metadata": {},
   "outputs": [],
   "source": [
    "X = disgust_ds[['MPS','TRT','GD','FFD']]\n",
    "y = disgust_ds['Score']\n",
    "X = sm.add_constant(X)\n",
    "\n",
    "model = be.backwardEliminationMLR(X,y)\n",
    "model.summary()"
   ]
  },
  {
   "cell_type": "markdown",
   "metadata": {},
   "source": [
    "No correlation has been noticed between ZuCo values and disgust score values (SL = 0.05)"
   ]
  },
  {
   "cell_type": "code",
   "execution_count": null,
   "metadata": {},
   "outputs": [],
   "source": [
    "X = fear_ds[['MPS','TRT','GD','FFD']]\n",
    "y = fear_ds['Score']\n",
    "X = sm.add_constant(X)\n",
    "\n",
    "model = be.backwardEliminationMLR(X,y)\n",
    "model.summary()"
   ]
  },
  {
   "cell_type": "markdown",
   "metadata": {},
   "source": [
    "No correlation has been noticed between ZuCo values and fear score values (SL = 0.05)"
   ]
  },
  {
   "cell_type": "code",
   "execution_count": null,
   "metadata": {},
   "outputs": [],
   "source": [
    "X = joy_ds[['MPS','TRT','GD','FFD']]\n",
    "y = joy_ds['Score']\n",
    "X = sm.add_constant(X)\n",
    "\n",
    "model = be.backwardEliminationMLR(X,y)\n",
    "model.summary()"
   ]
  },
  {
   "cell_type": "markdown",
   "metadata": {},
   "source": [
    "No correlation has been noticed between ZuCo values and joy score values (SL = 0.05)"
   ]
  },
  {
   "cell_type": "code",
   "execution_count": null,
   "metadata": {},
   "outputs": [],
   "source": [
    "X = sadness_ds[['MPS','TRT','GD','FFD']]\n",
    "y = sadness_ds['Score']\n",
    "X = sm.add_constant(X)\n",
    "\n",
    "model = be.backWardEliminationMLR(X,y)\n",
    "model.summary()"
   ]
  },
  {
   "cell_type": "markdown",
   "metadata": {},
   "source": [
    "No correlation has been noticed between ZuCo values and sadness score values (SL = 0.05)"
   ]
  },
  {
   "cell_type": "code",
   "execution_count": null,
   "metadata": {},
   "outputs": [],
   "source": [
    "X = surprise_ds[['MPS','TRT','GD','FFD']]\n",
    "y = surprise_ds['Score']\n",
    "X = sm.add_constant(X)\n",
    "\n",
    "model = be.backwardEliminationMLR(X,y)\n",
    "model.summary()"
   ]
  },
  {
   "cell_type": "markdown",
   "metadata": {},
   "source": [
    "No correlation has been noticed between ZuCo values and surprise score values (SL = 0.05)"
   ]
  },
  {
   "cell_type": "code",
   "execution_count": null,
   "metadata": {},
   "outputs": [],
   "source": [
    "X = trust_ds[['MPS','TRT','GD','FFD']]\n",
    "y = trust_ds['Score']\n",
    "X = sm.add_constant(X)\n",
    "\n",
    "model = be.backwardEliminationMLR(X,y)\n",
    "model.summary()"
   ]
  },
  {
   "cell_type": "markdown",
   "metadata": {},
   "source": [
    "No correlation has been noticed between ZuCo values and surprise score values (SL = 0.05)"
   ]
  },
  {
   "cell_type": "markdown",
   "metadata": {},
   "source": [
    "### Conclusions\n",
    "\n",
    "The results does not report any meaningful sign of linear correlation between the ZuCo features values and the single discrete emotions."
   ]
  }
 ],
 "metadata": {
  "kernelspec": {
   "display_name": "Python 3",
   "language": "python",
   "name": "python3"
  },
  "language_info": {
   "codemirror_mode": {
    "name": "ipython",
    "version": 3
   },
   "file_extension": ".py",
   "mimetype": "text/x-python",
   "name": "python",
   "nbconvert_exporter": "python",
   "pygments_lexer": "ipython3",
   "version": "3.8.3"
  }
 },
 "nbformat": 4,
 "nbformat_minor": 4
}
