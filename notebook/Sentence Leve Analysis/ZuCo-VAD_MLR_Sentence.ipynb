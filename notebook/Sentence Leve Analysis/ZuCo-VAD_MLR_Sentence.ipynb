{
 "cells": [
  {
   "cell_type": "markdown",
   "metadata": {},
   "source": [
    "# VAD Multiple Linear Regression Analysis"
   ]
  },
  {
   "cell_type": "markdown",
   "metadata": {},
   "source": [
    "### Import libraries and files"
   ]
  },
  {
   "cell_type": "code",
   "execution_count": 1,
   "metadata": {},
   "outputs": [],
   "source": [
    "import pandas as pd\n",
    "import statsmodels.api as sm\n",
    "import matplotlib.pyplot as plt\n",
    "\n",
    "# some_file.py\n",
    "import sys\n",
    "# insert at 1, 0 is the script path (or '' in REPL)\n",
    "sys.path.insert(1, '../')\n",
    "import BackwardElimination as be"
   ]
  },
  {
   "cell_type": "markdown",
   "metadata": {},
   "source": [
    "### Take data from CSV files"
   ]
  },
  {
   "cell_type": "code",
   "execution_count": 2,
   "metadata": {},
   "outputs": [
    {
     "name": "stdout",
     "output_type": "stream",
     "text": [
      "      Arousal   Valence  Dominance  Anger  Anticipation  Disgust   Fear  \\\n",
      "0    0.415830  0.240984   0.316366  0.349         0.000    0.000  0.000   \n",
      "1    0.147271  0.077473   0.095612  0.000         0.000    0.000  1.072   \n",
      "2    0.271725  0.304864   0.311004  0.000         0.609    0.297  0.000   \n",
      "3    0.269869  0.380215   0.313269  0.000         0.000    0.250  0.000   \n",
      "4    0.425873  0.382730   0.371271  0.000         0.000    0.000  0.000   \n",
      "..        ...       ...        ...    ...           ...      ...    ...   \n",
      "385  0.116048  0.175611   0.164414  0.000         0.000    0.000  0.000   \n",
      "386  0.476419  0.616485   0.524507  0.000         0.555    0.000  0.094   \n",
      "387  0.321070  0.237527   0.340684  0.000         0.000    0.000  0.942   \n",
      "388  0.067249  0.157618   0.104977  0.000         0.406    0.000  0.000   \n",
      "389  0.551638  0.571384   0.477003  0.000         0.531    0.000  0.038   \n",
      "\n",
      "       Joy  Sadness  Surprise  Trust       MPS       TRT        GD       FFD  \n",
      "0    0.000    0.953     0.000  0.453  0.676789  0.408781  0.346567  0.342576  \n",
      "1    0.000    1.469     0.000  0.000  0.968448  0.175566  0.119981  0.141634  \n",
      "2    0.576    0.219     0.000  1.530  0.676733  0.662340  0.665780  0.642285  \n",
      "3    0.000    0.000     0.000  0.477       NaN       NaN       NaN       NaN  \n",
      "4    0.765    0.000     0.000  0.695  0.614186  0.404344  0.371627  0.349712  \n",
      "..     ...      ...       ...    ...       ...       ...       ...       ...  \n",
      "385  0.000    0.000     0.000  0.000       NaN       NaN       NaN       NaN  \n",
      "386  0.486    0.000     0.312  2.140  0.383044  0.317031  0.376474  0.395422  \n",
      "387  0.000    0.000     0.000  0.453  0.519057  0.108612  0.193023  0.201919  \n",
      "388  0.912    0.016     0.000  0.703  0.359508  0.066062  0.093223  0.113358  \n",
      "389  1.165    0.000     0.000  1.828  0.000000  0.497044  0.546024  0.525732  \n",
      "\n",
      "[390 rows x 15 columns]\n"
     ]
    }
   ],
   "source": [
    "zuco_cs = pd.read_csv(r'../Lexicons/ZuCo_words_dataset.csv')\n",
    "sentences_cs = pd.read_csv(r'../Lexicons/Emotion_Sentences_Cross_Analysis.csv')\n",
    "print(sentences_cs)"
   ]
  },
  {
   "cell_type": "markdown",
   "metadata": {},
   "source": [
    "## Multiple Linear Regression between VAD and Gaze Features on sentences"
   ]
  },
  {
   "cell_type": "markdown",
   "metadata": {},
   "source": [
    "### Analysis: Arousal as dependent and MPS, TRT, GD and FFD as indipendent"
   ]
  },
  {
   "cell_type": "code",
   "execution_count": 3,
   "metadata": {},
   "outputs": [
    {
     "name": "stdout",
     "output_type": "stream",
     "text": [
      "const    0.063829\n",
      "MPS      0.504383\n",
      "TRT      0.389606\n",
      "GD       0.043415\n",
      "FFD      0.000005\n",
      "dtype: float64\n",
      " \n",
      "const    0.008603\n",
      "TRT      0.307776\n",
      "GD       0.043408\n",
      "FFD      0.000003\n",
      "dtype: float64\n",
      " \n",
      "const    0.005311\n",
      "GD       0.005911\n",
      "FFD      0.000001\n",
      "dtype: float64\n",
      " \n"
     ]
    },
    {
     "data": {
      "text/html": [
       "<table class=\"simpletable\">\n",
       "<caption>OLS Regression Results</caption>\n",
       "<tr>\n",
       "  <th>Dep. Variable:</th>         <td>Arousal</td>     <th>  R-squared:         </th> <td>   0.604</td>\n",
       "</tr>\n",
       "<tr>\n",
       "  <th>Model:</th>                   <td>OLS</td>       <th>  Adj. R-squared:    </th> <td>   0.601</td>\n",
       "</tr>\n",
       "<tr>\n",
       "  <th>Method:</th>             <td>Least Squares</td>  <th>  F-statistic:       </th> <td>   242.9</td>\n",
       "</tr>\n",
       "<tr>\n",
       "  <th>Date:</th>             <td>Mon, 16 Nov 2020</td> <th>  Prob (F-statistic):</th> <td>7.77e-65</td>\n",
       "</tr>\n",
       "<tr>\n",
       "  <th>Time:</th>                 <td>15:53:48</td>     <th>  Log-Likelihood:    </th> <td>  266.46</td>\n",
       "</tr>\n",
       "<tr>\n",
       "  <th>No. Observations:</th>      <td>   322</td>      <th>  AIC:               </th> <td>  -526.9</td>\n",
       "</tr>\n",
       "<tr>\n",
       "  <th>Df Residuals:</th>          <td>   319</td>      <th>  BIC:               </th> <td>  -515.6</td>\n",
       "</tr>\n",
       "<tr>\n",
       "  <th>Df Model:</th>              <td>     2</td>      <th>                     </th>     <td> </td>   \n",
       "</tr>\n",
       "<tr>\n",
       "  <th>Covariance Type:</th>      <td>nonrobust</td>    <th>                     </th>     <td> </td>   \n",
       "</tr>\n",
       "</table>\n",
       "<table class=\"simpletable\">\n",
       "<tr>\n",
       "    <td></td>       <th>coef</th>     <th>std err</th>      <th>t</th>      <th>P>|t|</th>  <th>[0.025</th>    <th>0.975]</th>  \n",
       "</tr>\n",
       "<tr>\n",
       "  <th>const</th> <td>    0.0326</td> <td>    0.012</td> <td>    2.807</td> <td> 0.005</td> <td>    0.010</td> <td>    0.055</td>\n",
       "</tr>\n",
       "<tr>\n",
       "  <th>GD</th>    <td>   -0.8136</td> <td>    0.294</td> <td>   -2.771</td> <td> 0.006</td> <td>   -1.391</td> <td>   -0.236</td>\n",
       "</tr>\n",
       "<tr>\n",
       "  <th>FFD</th>   <td>    1.4638</td> <td>    0.298</td> <td>    4.916</td> <td> 0.000</td> <td>    0.878</td> <td>    2.050</td>\n",
       "</tr>\n",
       "</table>\n",
       "<table class=\"simpletable\">\n",
       "<tr>\n",
       "  <th>Omnibus:</th>       <td> 6.984</td> <th>  Durbin-Watson:     </th> <td>   1.842</td>\n",
       "</tr>\n",
       "<tr>\n",
       "  <th>Prob(Omnibus):</th> <td> 0.030</td> <th>  Jarque-Bera (JB):  </th> <td>   9.979</td>\n",
       "</tr>\n",
       "<tr>\n",
       "  <th>Skew:</th>          <td> 0.124</td> <th>  Prob(JB):          </th> <td> 0.00681</td>\n",
       "</tr>\n",
       "<tr>\n",
       "  <th>Kurtosis:</th>      <td> 3.826</td> <th>  Cond. No.          </th> <td>    78.6</td>\n",
       "</tr>\n",
       "</table><br/><br/>Notes:<br/>[1] Standard Errors assume that the covariance matrix of the errors is correctly specified."
      ],
      "text/plain": [
       "<class 'statsmodels.iolib.summary.Summary'>\n",
       "\"\"\"\n",
       "                            OLS Regression Results                            \n",
       "==============================================================================\n",
       "Dep. Variable:                Arousal   R-squared:                       0.604\n",
       "Model:                            OLS   Adj. R-squared:                  0.601\n",
       "Method:                 Least Squares   F-statistic:                     242.9\n",
       "Date:                Mon, 16 Nov 2020   Prob (F-statistic):           7.77e-65\n",
       "Time:                        15:53:48   Log-Likelihood:                 266.46\n",
       "No. Observations:                 322   AIC:                            -526.9\n",
       "Df Residuals:                     319   BIC:                            -515.6\n",
       "Df Model:                           2                                         \n",
       "Covariance Type:            nonrobust                                         \n",
       "==============================================================================\n",
       "                 coef    std err          t      P>|t|      [0.025      0.975]\n",
       "------------------------------------------------------------------------------\n",
       "const          0.0326      0.012      2.807      0.005       0.010       0.055\n",
       "GD            -0.8136      0.294     -2.771      0.006      -1.391      -0.236\n",
       "FFD            1.4638      0.298      4.916      0.000       0.878       2.050\n",
       "==============================================================================\n",
       "Omnibus:                        6.984   Durbin-Watson:                   1.842\n",
       "Prob(Omnibus):                  0.030   Jarque-Bera (JB):                9.979\n",
       "Skew:                           0.124   Prob(JB):                      0.00681\n",
       "Kurtosis:                       3.826   Cond. No.                         78.6\n",
       "==============================================================================\n",
       "\n",
       "Notes:\n",
       "[1] Standard Errors assume that the covariance matrix of the errors is correctly specified.\n",
       "\"\"\""
      ]
     },
     "execution_count": 3,
     "metadata": {},
     "output_type": "execute_result"
    }
   ],
   "source": [
    "GF_AR_cs = pd.DataFrame(sentences_cs, columns=['Arousal','MPS','TRT','GD','FFD'])\n",
    "GF_AR_cs = GF_AR_cs[GF_AR_cs.FFD.notnull()]\n",
    "GF_AR_cs = GF_AR_cs[GF_AR_cs.MPS.notnull()]\n",
    "GF_AR_cs = GF_AR_cs[GF_AR_cs.TRT.notnull()]\n",
    "GF_AR_cs = GF_AR_cs[GF_AR_cs.GD.notnull()]\n",
    "\n",
    "x = GF_AR_cs[['MPS','TRT','GD', 'FFD']]\n",
    "y = GF_AR_cs['Arousal']\n",
    "\n",
    "x = sm.add_constant(x)\n",
    "model = be.backWardEliminationMLR(x,y)\n",
    "model.summary()"
   ]
  },
  {
   "cell_type": "markdown",
   "metadata": {},
   "source": [
    "We can see an apparently no correlation between the dependent variable Arousal and the following independent variables: MPS, TRT, GD and FFD\n",
    "\n",
    "SL = 0.05"
   ]
  },
  {
   "cell_type": "markdown",
   "metadata": {},
   "source": [
    "### Analysis: Valence as dependent and MPS, TRT, GD and FFD as indipendent"
   ]
  },
  {
   "cell_type": "code",
   "execution_count": 4,
   "metadata": {},
   "outputs": [
    {
     "name": "stdout",
     "output_type": "stream",
     "text": [
      "const    0.001208\n",
      "MPS      0.152804\n",
      "TRT      0.659614\n",
      "GD       0.090889\n",
      "FFD      0.000061\n",
      "dtype: float64\n",
      " \n",
      "const    0.000565\n",
      "MPS      0.120005\n",
      "GD       0.036479\n",
      "FFD      0.000045\n",
      "dtype: float64\n",
      " \n",
      "const    0.000022\n",
      "GD       0.024473\n",
      "FFD      0.000018\n",
      "dtype: float64\n",
      " \n"
     ]
    },
    {
     "data": {
      "text/html": [
       "<table class=\"simpletable\">\n",
       "<caption>OLS Regression Results</caption>\n",
       "<tr>\n",
       "  <th>Dep. Variable:</th>         <td>Valence</td>     <th>  R-squared:         </th> <td>   0.590</td>\n",
       "</tr>\n",
       "<tr>\n",
       "  <th>Model:</th>                   <td>OLS</td>       <th>  Adj. R-squared:    </th> <td>   0.587</td>\n",
       "</tr>\n",
       "<tr>\n",
       "  <th>Method:</th>             <td>Least Squares</td>  <th>  F-statistic:       </th> <td>   229.3</td>\n",
       "</tr>\n",
       "<tr>\n",
       "  <th>Date:</th>             <td>Mon, 16 Nov 2020</td> <th>  Prob (F-statistic):</th> <td>1.93e-62</td>\n",
       "</tr>\n",
       "<tr>\n",
       "  <th>Time:</th>                 <td>15:53:48</td>     <th>  Log-Likelihood:    </th> <td>  248.84</td>\n",
       "</tr>\n",
       "<tr>\n",
       "  <th>No. Observations:</th>      <td>   322</td>      <th>  AIC:               </th> <td>  -491.7</td>\n",
       "</tr>\n",
       "<tr>\n",
       "  <th>Df Residuals:</th>          <td>   319</td>      <th>  BIC:               </th> <td>  -480.4</td>\n",
       "</tr>\n",
       "<tr>\n",
       "  <th>Df Model:</th>              <td>     2</td>      <th>                     </th>     <td> </td>   \n",
       "</tr>\n",
       "<tr>\n",
       "  <th>Covariance Type:</th>      <td>nonrobust</td>    <th>                     </th>     <td> </td>   \n",
       "</tr>\n",
       "</table>\n",
       "<table class=\"simpletable\">\n",
       "<tr>\n",
       "    <td></td>       <th>coef</th>     <th>std err</th>      <th>t</th>      <th>P>|t|</th>  <th>[0.025</th>    <th>0.975]</th>  \n",
       "</tr>\n",
       "<tr>\n",
       "  <th>const</th> <td>    0.0528</td> <td>    0.012</td> <td>    4.305</td> <td> 0.000</td> <td>    0.029</td> <td>    0.077</td>\n",
       "</tr>\n",
       "<tr>\n",
       "  <th>GD</th>    <td>   -0.7009</td> <td>    0.310</td> <td>   -2.260</td> <td> 0.024</td> <td>   -1.311</td> <td>   -0.091</td>\n",
       "</tr>\n",
       "<tr>\n",
       "  <th>FFD</th>   <td>    1.3684</td> <td>    0.314</td> <td>    4.351</td> <td> 0.000</td> <td>    0.750</td> <td>    1.987</td>\n",
       "</tr>\n",
       "</table>\n",
       "<table class=\"simpletable\">\n",
       "<tr>\n",
       "  <th>Omnibus:</th>       <td>11.118</td> <th>  Durbin-Watson:     </th> <td>   1.775</td>\n",
       "</tr>\n",
       "<tr>\n",
       "  <th>Prob(Omnibus):</th> <td> 0.004</td> <th>  Jarque-Bera (JB):  </th> <td>  14.320</td>\n",
       "</tr>\n",
       "<tr>\n",
       "  <th>Skew:</th>          <td> 0.299</td> <th>  Prob(JB):          </th> <td>0.000777</td>\n",
       "</tr>\n",
       "<tr>\n",
       "  <th>Kurtosis:</th>      <td> 3.842</td> <th>  Cond. No.          </th> <td>    78.6</td>\n",
       "</tr>\n",
       "</table><br/><br/>Notes:<br/>[1] Standard Errors assume that the covariance matrix of the errors is correctly specified."
      ],
      "text/plain": [
       "<class 'statsmodels.iolib.summary.Summary'>\n",
       "\"\"\"\n",
       "                            OLS Regression Results                            \n",
       "==============================================================================\n",
       "Dep. Variable:                Valence   R-squared:                       0.590\n",
       "Model:                            OLS   Adj. R-squared:                  0.587\n",
       "Method:                 Least Squares   F-statistic:                     229.3\n",
       "Date:                Mon, 16 Nov 2020   Prob (F-statistic):           1.93e-62\n",
       "Time:                        15:53:48   Log-Likelihood:                 248.84\n",
       "No. Observations:                 322   AIC:                            -491.7\n",
       "Df Residuals:                     319   BIC:                            -480.4\n",
       "Df Model:                           2                                         \n",
       "Covariance Type:            nonrobust                                         \n",
       "==============================================================================\n",
       "                 coef    std err          t      P>|t|      [0.025      0.975]\n",
       "------------------------------------------------------------------------------\n",
       "const          0.0528      0.012      4.305      0.000       0.029       0.077\n",
       "GD            -0.7009      0.310     -2.260      0.024      -1.311      -0.091\n",
       "FFD            1.3684      0.314      4.351      0.000       0.750       1.987\n",
       "==============================================================================\n",
       "Omnibus:                       11.118   Durbin-Watson:                   1.775\n",
       "Prob(Omnibus):                  0.004   Jarque-Bera (JB):               14.320\n",
       "Skew:                           0.299   Prob(JB):                     0.000777\n",
       "Kurtosis:                       3.842   Cond. No.                         78.6\n",
       "==============================================================================\n",
       "\n",
       "Notes:\n",
       "[1] Standard Errors assume that the covariance matrix of the errors is correctly specified.\n",
       "\"\"\""
      ]
     },
     "execution_count": 4,
     "metadata": {},
     "output_type": "execute_result"
    }
   ],
   "source": [
    "GF_VA_cs = pd.DataFrame(sentences_cs, columns=['Valence','MPS','TRT','GD','FFD'])\n",
    "GF_VA_cs = GF_VA_cs[GF_VA_cs.FFD.notnull()]\n",
    "GF_VA_cs = GF_VA_cs[GF_VA_cs.MPS.notnull()]\n",
    "GF_VA_cs = GF_VA_cs[GF_VA_cs.TRT.notnull()]\n",
    "GF_VA_cs = GF_VA_cs[GF_VA_cs.GD.notnull()]\n",
    "\n",
    "x = GF_VA_cs[['MPS','TRT','GD', 'FFD']]\n",
    "y = GF_VA_cs['Valence']\n",
    "\n",
    "x = sm.add_constant(x)\n",
    "model = be.backWardEliminationMLR(x,y)\n",
    "model.summary()"
   ]
  },
  {
   "cell_type": "markdown",
   "metadata": {},
   "source": [
    "We can see an apparently no correlation between the dependent variable Valence and the following independent variables: MPS, TRT, GD and FFD\n",
    "\n",
    "SL = 0.05"
   ]
  },
  {
   "cell_type": "markdown",
   "metadata": {},
   "source": [
    "### Analysis: Dominance as dependent and MPS, TRT, GD and FFD as indipendent"
   ]
  },
  {
   "cell_type": "code",
   "execution_count": 5,
   "metadata": {},
   "outputs": [
    {
     "name": "stdout",
     "output_type": "stream",
     "text": [
      "const    0.022252\n",
      "MPS      0.750640\n",
      "TRT      0.688100\n",
      "GD       0.101602\n",
      "FFD      0.000066\n",
      "dtype: float64\n",
      " \n",
      "const    0.000036\n",
      "TRT      0.632957\n",
      "GD       0.101287\n",
      "FFD      0.000053\n",
      "dtype: float64\n",
      " \n",
      "const    0.000023\n",
      "GD       0.038803\n",
      "FFD      0.000035\n",
      "dtype: float64\n",
      " \n"
     ]
    },
    {
     "data": {
      "text/html": [
       "<table class=\"simpletable\">\n",
       "<caption>OLS Regression Results</caption>\n",
       "<tr>\n",
       "  <th>Dep. Variable:</th>        <td>Dominance</td>    <th>  R-squared:         </th> <td>   0.597</td>\n",
       "</tr>\n",
       "<tr>\n",
       "  <th>Model:</th>                   <td>OLS</td>       <th>  Adj. R-squared:    </th> <td>   0.594</td>\n",
       "</tr>\n",
       "<tr>\n",
       "  <th>Method:</th>             <td>Least Squares</td>  <th>  F-statistic:       </th> <td>   235.9</td>\n",
       "</tr>\n",
       "<tr>\n",
       "  <th>Date:</th>             <td>Mon, 16 Nov 2020</td> <th>  Prob (F-statistic):</th> <td>1.29e-63</td>\n",
       "</tr>\n",
       "<tr>\n",
       "  <th>Time:</th>                 <td>15:53:48</td>     <th>  Log-Likelihood:    </th> <td>  287.87</td>\n",
       "</tr>\n",
       "<tr>\n",
       "  <th>No. Observations:</th>      <td>   322</td>      <th>  AIC:               </th> <td>  -569.7</td>\n",
       "</tr>\n",
       "<tr>\n",
       "  <th>Df Residuals:</th>          <td>   319</td>      <th>  BIC:               </th> <td>  -558.4</td>\n",
       "</tr>\n",
       "<tr>\n",
       "  <th>Df Model:</th>              <td>     2</td>      <th>                     </th>     <td> </td>   \n",
       "</tr>\n",
       "<tr>\n",
       "  <th>Covariance Type:</th>      <td>nonrobust</td>    <th>                     </th>     <td> </td>   \n",
       "</tr>\n",
       "</table>\n",
       "<table class=\"simpletable\">\n",
       "<tr>\n",
       "    <td></td>       <th>coef</th>     <th>std err</th>      <th>t</th>      <th>P>|t|</th>  <th>[0.025</th>    <th>0.975]</th>  \n",
       "</tr>\n",
       "<tr>\n",
       "  <th>const</th> <td>    0.0467</td> <td>    0.011</td> <td>    4.299</td> <td> 0.000</td> <td>    0.025</td> <td>    0.068</td>\n",
       "</tr>\n",
       "<tr>\n",
       "  <th>GD</th>    <td>   -0.5699</td> <td>    0.275</td> <td>   -2.075</td> <td> 0.039</td> <td>   -1.110</td> <td>   -0.030</td>\n",
       "</tr>\n",
       "<tr>\n",
       "  <th>FFD</th>   <td>    1.1698</td> <td>    0.279</td> <td>    4.199</td> <td> 0.000</td> <td>    0.622</td> <td>    1.718</td>\n",
       "</tr>\n",
       "</table>\n",
       "<table class=\"simpletable\">\n",
       "<tr>\n",
       "  <th>Omnibus:</th>       <td>10.802</td> <th>  Durbin-Watson:     </th> <td>   1.723</td>\n",
       "</tr>\n",
       "<tr>\n",
       "  <th>Prob(Omnibus):</th> <td> 0.005</td> <th>  Jarque-Bera (JB):  </th> <td>  15.570</td>\n",
       "</tr>\n",
       "<tr>\n",
       "  <th>Skew:</th>          <td> 0.247</td> <th>  Prob(JB):          </th> <td>0.000416</td>\n",
       "</tr>\n",
       "<tr>\n",
       "  <th>Kurtosis:</th>      <td> 3.958</td> <th>  Cond. No.          </th> <td>    78.6</td>\n",
       "</tr>\n",
       "</table><br/><br/>Notes:<br/>[1] Standard Errors assume that the covariance matrix of the errors is correctly specified."
      ],
      "text/plain": [
       "<class 'statsmodels.iolib.summary.Summary'>\n",
       "\"\"\"\n",
       "                            OLS Regression Results                            \n",
       "==============================================================================\n",
       "Dep. Variable:              Dominance   R-squared:                       0.597\n",
       "Model:                            OLS   Adj. R-squared:                  0.594\n",
       "Method:                 Least Squares   F-statistic:                     235.9\n",
       "Date:                Mon, 16 Nov 2020   Prob (F-statistic):           1.29e-63\n",
       "Time:                        15:53:48   Log-Likelihood:                 287.87\n",
       "No. Observations:                 322   AIC:                            -569.7\n",
       "Df Residuals:                     319   BIC:                            -558.4\n",
       "Df Model:                           2                                         \n",
       "Covariance Type:            nonrobust                                         \n",
       "==============================================================================\n",
       "                 coef    std err          t      P>|t|      [0.025      0.975]\n",
       "------------------------------------------------------------------------------\n",
       "const          0.0467      0.011      4.299      0.000       0.025       0.068\n",
       "GD            -0.5699      0.275     -2.075      0.039      -1.110      -0.030\n",
       "FFD            1.1698      0.279      4.199      0.000       0.622       1.718\n",
       "==============================================================================\n",
       "Omnibus:                       10.802   Durbin-Watson:                   1.723\n",
       "Prob(Omnibus):                  0.005   Jarque-Bera (JB):               15.570\n",
       "Skew:                           0.247   Prob(JB):                     0.000416\n",
       "Kurtosis:                       3.958   Cond. No.                         78.6\n",
       "==============================================================================\n",
       "\n",
       "Notes:\n",
       "[1] Standard Errors assume that the covariance matrix of the errors is correctly specified.\n",
       "\"\"\""
      ]
     },
     "execution_count": 5,
     "metadata": {},
     "output_type": "execute_result"
    }
   ],
   "source": [
    "GF_DO_cs = pd.DataFrame(sentences_cs, columns=['Dominance','MPS','TRT','GD','FFD'])\n",
    "GF_DO_cs = GF_DO_cs[GF_DO_cs.FFD.notnull()]\n",
    "GF_DO_cs = GF_DO_cs[GF_DO_cs.MPS.notnull()]\n",
    "GF_DO_cs = GF_DO_cs[GF_DO_cs.TRT.notnull()]\n",
    "GF_DO_cs = GF_DO_cs[GF_DO_cs.GD.notnull()]\n",
    "\n",
    "x = GF_DO_cs[['MPS','TRT','GD', 'FFD']]\n",
    "y = GF_DO_cs['Dominance']\n",
    "\n",
    "x = sm.add_constant(x)\n",
    "model = be.backWardEliminationMLR(x,y)\n",
    "model.summary()"
   ]
  },
  {
   "cell_type": "markdown",
   "metadata": {},
   "source": [
    "We can see an apparently no correlation between the dependent variable Dominance and the following independent variables: MPS, TRT, GD and FFD\n",
    "\n",
    "SL = 0.05"
   ]
  },
  {
   "cell_type": "code",
   "execution_count": null,
   "metadata": {},
   "outputs": [],
   "source": []
  }
 ],
 "metadata": {
  "kernelspec": {
   "display_name": "Python 3",
   "language": "python",
   "name": "python3"
  },
  "language_info": {
   "codemirror_mode": {
    "name": "ipython",
    "version": 3
   },
   "file_extension": ".py",
   "mimetype": "text/x-python",
   "name": "python",
   "nbconvert_exporter": "python",
   "pygments_lexer": "ipython3",
   "version": "3.8.3"
  }
 },
 "nbformat": 4,
 "nbformat_minor": 4
}
